{
 "cells": [
  {
   "cell_type": "code",
   "execution_count": 35,
   "metadata": {},
   "outputs": [
    {
     "data": {
      "text/plain": [
       "'\\n# Aiming for this election result form\\n# will need to do some logic to determine which year\\'s primary and general elex\\n# to pull from for senate districts based on whether they were in cycle in 2022\\n        \"pri_elex\": {\\n            \"leg\": [\\n                {\\n                    \"name\": \"STEVE GUNDERSON\",\\n                    \"party\": \"R\",\\n                    \"votes\": 2121\\n                },\\n                {\\n                    \"name\": \"MARVIN C SATHER\",\\n                    \"party\": \"D\",\\n                    \"votes\": 880\\n                }\\n            ]\\n        },\\n        \"gen_elex\": {\\n            \"gov\": [\\n                {\\n                    \"name\": \"Gianforte\",\\n                    \"party\": \"R\",\\n                    \"votes\": 3568\\n                },\\n                {\\n                    \"name\": \"Cooney\",\\n                    \"party\": \"D\",\\n                    \"votes\": 1499\\n                },\\n                {\\n                    \"name\": \"Bishop\",\\n                    \"party\": \"L\",\\n                    \"votes\": 210\\n                }\\n            ],\\n            \"leg\": [\\n                {\\n                    \"name\": \"STEVE GUNDERSON\",\\n                    \"party\": \"R\",\\n                    \"votes\": 3721\\n                },\\n                {\\n                    \"name\": \"MARVIN C SATHER\",\\n                    \"party\": \"D\",\\n                    \"votes\": 1518\\n                }\\n            ]\\n        },\\n'"
      ]
     },
     "execution_count": 35,
     "metadata": {},
     "output_type": "execute_result"
    }
   ],
   "source": [
    "# Temporary notebook to rough out scripting for\n",
    "# make-district-file-2025.py\n",
    "# Will transfer finished code there and delete this\n",
    "\n",
    "import math\n",
    "import json\n",
    "import pandas as pd\n",
    "\n",
    "'''\n",
    "# Aiming for this election result form\n",
    "# will need to do some logic to determine which year's primary and general elex\n",
    "# to pull from for senate districts based on whether they were in cycle in 2022\n",
    "        \"pri_elex\": {\n",
    "            \"leg\": [\n",
    "                {\n",
    "                    \"name\": \"STEVE GUNDERSON\",\n",
    "                    \"party\": \"R\",\n",
    "                    \"votes\": 2121\n",
    "                },\n",
    "                {\n",
    "                    \"name\": \"MARVIN C SATHER\",\n",
    "                    \"party\": \"D\",\n",
    "                    \"votes\": 880\n",
    "                }\n",
    "            ]\n",
    "        },\n",
    "        \"gen_elex\": {\n",
    "            \"gov\": [\n",
    "                {\n",
    "                    \"name\": \"Gianforte\",\n",
    "                    \"party\": \"R\",\n",
    "                    \"votes\": 3568\n",
    "                },\n",
    "                {\n",
    "                    \"name\": \"Cooney\",\n",
    "                    \"party\": \"D\",\n",
    "                    \"votes\": 1499\n",
    "                },\n",
    "                {\n",
    "                    \"name\": \"Bishop\",\n",
    "                    \"party\": \"L\",\n",
    "                    \"votes\": 210\n",
    "                }\n",
    "            ],\n",
    "            \"leg\": [\n",
    "                {\n",
    "                    \"name\": \"STEVE GUNDERSON\",\n",
    "                    \"party\": \"R\",\n",
    "                    \"votes\": 3721\n",
    "                },\n",
    "                {\n",
    "                    \"name\": \"MARVIN C SATHER\",\n",
    "                    \"party\": \"D\",\n",
    "                    \"votes\": 1518\n",
    "                }\n",
    "            ]\n",
    "        },\n",
    "'''"
   ]
  },
  {
   "cell_type": "code",
   "execution_count": 36,
   "metadata": {},
   "outputs": [],
   "source": [
    "statewide_general_by_precinct_2024 = pd.read_csv('./inputs/districts/election-results/2024-general-statewide-precinct-vote-counts.csv')\n",
    "lege_primary_2024 = pd.read_csv('./inputs/districts/election-results/2024-primary-legislative-vote-counts.csv')\n",
    "lege_general_2024 = pd.read_csv('./inputs/districts/election-results/2024-general-legislative-vote-counts.csv')\n",
    "lege_primary_2022 = pd.read_csv('./inputs/districts/election-results/2022-primary-legislative-vote-counts.csv')\n",
    "lege_general_2022 = pd.read_csv('./inputs/districts/election-results/2024-general-legislative-vote-counts.csv')\n",
    "\n",
    "\n",
    "\n",
    "def parse_statewide_votes (precinctResults, district, raceLabel):\n",
    "    # TODO -- filter precinct-level results to just results for a given race and lege district\n",
    "    return {}\n",
    "    \n",
    "def parse_legislative_votes(results, district):\n",
    "    race_votes = results[results['district'] == district][['party','candidate','votes']]\n",
    "    race_votes['party'] = race_votes['party'].str[:1]\n",
    "    total_votes = race_votes['votes'].sum()\n",
    "    race_votes['percent'] = race_votes['votes'] / total_votes\n",
    "    return race_votes.to_dict(orient='records')\n",
    "\n",
    "district = 'HD-2'\n",
    "in_cycle_2024 = True\n",
    "pri_elex = {\n",
    "    'leg': parse_legislative_votes(lege_primary_2024, district) if in_cycle_2024 \\\n",
    "        else  parse_legislative_votes(lege_primary_2022, district)\n",
    "}\n",
    "gen_elex = {\n",
    "    'pres': {},\n",
    "    'gov': {},\n",
    "    'leg': parse_legislative_votes(lege_general_2024, district) if in_cycle_2024 \\\n",
    "        else  parse_legislative_votes(lege_general_2022, district),\n",
    "}\n",
    "\n",
    "\n",
    "\n"
   ]
  },
  {
   "cell_type": "code",
   "execution_count": 37,
   "metadata": {},
   "outputs": [],
   "source": [
    "# Plan here: Build a senate/house district precinct-to-district map\n",
    "# That can be used to pull statewide vote tallies for each district\n",
    "\n",
    "# statewide_general_by_precinct_2024.head()\n",
    "# legislative_precincts = statewide_general_by_precinct_2024[statewide_general_by_precinct_2024['type'] == 'legislative'].copy()\n",
    "    # .groupby(['key','race']).agg({'election': 'count'}).reset_index()[['key','race']].to_dict()"
   ]
  },
  {
   "cell_type": "code",
   "execution_count": null,
   "metadata": {},
   "outputs": [],
   "source": []
  },
  {
   "cell_type": "code",
   "execution_count": null,
   "metadata": {},
   "outputs": [],
   "source": []
  }
 ],
 "metadata": {
  "kernelspec": {
   "display_name": "Python 3",
   "language": "python",
   "name": "python3"
  },
  "language_info": {
   "codemirror_mode": {
    "name": "ipython",
    "version": 3
   },
   "file_extension": ".py",
   "mimetype": "text/x-python",
   "name": "python",
   "nbconvert_exporter": "python",
   "pygments_lexer": "ipython3",
   "version": "3.10.8"
  }
 },
 "nbformat": 4,
 "nbformat_minor": 2
}
